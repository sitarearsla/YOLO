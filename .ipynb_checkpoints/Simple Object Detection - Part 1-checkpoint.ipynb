{
 "cells": [
  {
   "cell_type": "markdown",
   "metadata": {},
   "source": [
    "Simple Object Detection by Thresholding with mask\n",
    "=========================================="
   ]
  },
  {
   "cell_type": "markdown",
   "metadata": {},
   "source": [
    "- Find needed color mask in order to detect object\n"
   ]
  },
  {
   "cell_type": "markdown",
   "metadata": {},
   "source": [
    "1. Read image input in RGB color space\n",
    "2. Convert to image\n",
    "3. Choose right mask to detect object"
   ]
  },
  {
   "cell_type": "code",
   "execution_count": 1,
   "metadata": {},
   "outputs": [],
   "source": [
    "import os"
   ]
  },
  {
   "cell_type": "code",
   "execution_count": 2,
   "metadata": {},
   "outputs": [],
   "source": [
    "import cv2"
   ]
  },
  {
   "cell_type": "code",
   "execution_count": 3,
   "metadata": {},
   "outputs": [],
   "source": [
    "def do_nothing(x):\n",
    "    pass"
   ]
  },
  {
   "cell_type": "code",
   "execution_count": 4,
   "metadata": {},
   "outputs": [],
   "source": [
    "cv2.namedWindow('track_bar', cv2.WINDOW_NORMAL)"
   ]
  },
  {
   "cell_type": "code",
   "execution_count": 5,
   "metadata": {},
   "outputs": [],
   "source": [
    "cv2.createTrackbar('min_blue', 'track_bar', 0, 255, do_nothing)\n",
    "cv2.createTrackbar('min_green', 'track_bar', 0, 255, do_nothing)\n",
    "cv2.createTrackbar('min_red', 'track_bar', 0, 255, do_nothing)"
   ]
  },
  {
   "cell_type": "code",
   "execution_count": 6,
   "metadata": {},
   "outputs": [],
   "source": [
    "cv2.createTrackbar('max_blue', 'track_bar', 0, 255, do_nothing)\n",
    "cv2.createTrackbar('max_green', 'track_bar', 0, 255, do_nothing)\n",
    "cv2.createTrackbar('max_red', 'track_bar', 0, 255, do_nothing)"
   ]
  },
  {
   "cell_type": "markdown",
   "metadata": {},
   "source": [
    "- read the image as numpy array"
   ]
  },
  {
   "cell_type": "code",
   "execution_count": 7,
   "metadata": {},
   "outputs": [],
   "source": [
    "image_BGR = cv2.imread('objects-to-detect.jpg')"
   ]
  },
  {
   "cell_type": "code",
   "execution_count": 8,
   "metadata": {},
   "outputs": [],
   "source": [
    "image_BGR = cv2.resize(image_BGR, (600, 426))"
   ]
  },
  {
   "cell_type": "code",
   "execution_count": 9,
   "metadata": {},
   "outputs": [],
   "source": [
    "cv2.namedWindow('org_image', cv2.WINDOW_NORMAL)"
   ]
  },
  {
   "cell_type": "code",
   "execution_count": 10,
   "metadata": {},
   "outputs": [],
   "source": [
    "cv2.imshow('org_image', image_BGR)"
   ]
  },
  {
   "cell_type": "code",
   "execution_count": 11,
   "metadata": {},
   "outputs": [],
   "source": [
    "image_HSV = cv2.cvtColor(image_BGR, cv2.COLOR_BGR2HSV)"
   ]
  },
  {
   "cell_type": "code",
   "execution_count": 12,
   "metadata": {},
   "outputs": [],
   "source": [
    "cv2.namedWindow('hsv_image', cv2.WINDOW_NORMAL)"
   ]
  },
  {
   "cell_type": "code",
   "execution_count": 13,
   "metadata": {},
   "outputs": [],
   "source": [
    "cv2.imshow('hsv_image', image_HSV)"
   ]
  },
  {
   "cell_type": "code",
   "execution_count": 14,
   "metadata": {},
   "outputs": [],
   "source": [
    "#while True:\n",
    "#    if cv2.waitKey(0):\n",
    "#        break"
   ]
  },
  {
   "cell_type": "code",
   "execution_count": 15,
   "metadata": {},
   "outputs": [],
   "source": [
    "while True:\n",
    "    min_blue = cv2.getTrackbarPos('min_blue', 'track_bar')\n",
    "    min_green = cv2.getTrackbarPos('min_green', 'track_bar')\n",
    "    min_red = cv2.getTrackbarPos('min_red', 'track_bar')\n",
    "    \n",
    "    max_blue = cv2.getTrackbarPos('max_blue', 'track_bar')\n",
    "    max_green = cv2.getTrackbarPos('max_green', 'track_bar')\n",
    "    max_red = cv2.getTrackbarPos('max_red', 'track_bar')\n",
    "    \n",
    "    mask = cv2.inRange(image_HSV, (min_blue, min_green, min_red),(max_blue, max_green, max_red))\n",
    "    \n",
    "    cv2.namedWindow('mask', cv2.WINDOW_NORMAL)\n",
    "    cv2.imshow('mask', mask)\n",
    "    \n",
    "    if cv2.waitKey(1) & 0xFF == ord('q'):\n",
    "        break\n",
    "        \n",
    "cv2.destroyAllWindows()"
   ]
  },
  {
   "cell_type": "code",
   "execution_count": 16,
   "metadata": {},
   "outputs": [
    {
     "name": "stdout",
     "output_type": "stream",
     "text": [
      "min_blue, min_green, min_red = 17, 171, 83\n",
      "max_blue, max_green, max_red = 34, 255, 255\n"
     ]
    }
   ],
   "source": [
    "print('min_blue, min_green, min_red = {0}, {1}, {2}'.format(min_blue, min_green,\n",
    "                                                            min_red))\n",
    "print('max_blue, max_green, max_red = {0}, {1}, {2}'.format(max_blue, max_green,\n",
    "                                                            max_red))"
   ]
  },
  {
   "cell_type": "code",
   "execution_count": null,
   "metadata": {},
   "outputs": [],
   "source": []
  }
 ],
 "metadata": {
  "kernelspec": {
   "display_name": "Python 3",
   "language": "python",
   "name": "python3"
  },
  "language_info": {
   "codemirror_mode": {
    "name": "ipython",
    "version": 3
   },
   "file_extension": ".py",
   "mimetype": "text/x-python",
   "name": "python",
   "nbconvert_exporter": "python",
   "pygments_lexer": "ipython3",
   "version": "3.8.3"
  }
 },
 "nbformat": 4,
 "nbformat_minor": 4
}
